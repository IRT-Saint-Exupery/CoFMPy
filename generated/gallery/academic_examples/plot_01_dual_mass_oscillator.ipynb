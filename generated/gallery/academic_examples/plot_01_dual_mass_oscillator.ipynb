{
  "cells": [
    {
      "cell_type": "code",
      "execution_count": null,
      "metadata": {
        "collapsed": false
      },
      "outputs": [],
      "source": [
        "%matplotlib inline"
      ]
    },
    {
      "cell_type": "markdown",
      "metadata": {},
      "source": [
        "\nThe \"Dual Mass Oscillator\"\n=========================\n\nThis example demonstrates how to use CoFMPy to run the well-known **Dual Mass\nOscillator** example. The system simulates two masses connected with three springs and\ndampers on two walls.\n\nThe system is composed of two FMUs that are connected together. After describing the\nFMUs and the connections between them, we will run the simulation and plot the results.\n\nThe FMUs are provided by OpenModelica and are available in the [OMSimulator Github\nrepo](https://github.com/OpenModelica/OMSimulator/tree/master/testsuite/resources/).\n\n!!! warning\n    The FMUs are currently not working on Windows OS. We recommend using a Linux system\n    to run this example.\n"
      ]
    },
    {
      "cell_type": "markdown",
      "metadata": {},
      "source": [
        "# Description of the system\n\n![Duall Mass Oscillator](https://raw.githubusercontent.com/IRT-Saint-Exupery/CoFMPy/refs/heads/main/docs/examples/academic_examples/assets/dual_mass_oscillator.png)\n\nThe Dual Mass Oscillator is a mechanical system composed of two masses, each connected\nto a wall by a spring and a damper. The first mass is connected to the second mass by\na third spring/damper. Two FMUs are used to model the system:\n\n- `DualMassOscillator.System1`: This FMU models the first mass and the spring\n  connected to the left wall. It takes as input the force `F` that the second spring\n  applies on the first mass. It outputs the position `x1`, velocity `v1`, and\n  acceleration `a1` of the first mass.\n- `DualMassOscillator.System2`: This FMU models the second mass and the two other\n  springs/dampers (the one connected to the right wall and the one connecting the two\n  masses). It takes as input the position `x1`, velocity `v1`, and acceleration `a1`\n  of the first mass. It outputs the force `F` that the second spring applies on the\n  first mass.\n\nThe two FMUs are connected together with bidirectional connections (creating an\nalgebraic loop).\n\n"
      ]
    },
    {
      "cell_type": "markdown",
      "metadata": {},
      "source": [
        "# The configuration\n\nFirst, let's define the configuration that describes the Dual Mass Oscillator system.\nInstead of using a JSON file, we will directly create the configuration in a Python\ndictionary for better readability.\n\nWe first define the FMUs involved in the system. We can set initial values.\n\n"
      ]
    },
    {
      "cell_type": "code",
      "execution_count": null,
      "metadata": {
        "collapsed": false
      },
      "outputs": [],
      "source": [
        "fmus = [\n    {\n        \"id\": \"mass1\",\n        \"path\": \"../fmus/DualMassOscillator.System1.fmu\",\n        \"initialization\": {\"m1\": 1.0, \"k1\": 10.0, \"c1\": 0.2, \"x1_start\": 0.0},\n    },\n    {\n        \"id\": \"mass2\",\n        \"path\": \"../fmus/DualMassOscillator.System2.fmu\",\n        \"initialization\": {\n            \"m2\": 1.0,\n            \"k2\": 10.0,\n            \"c2\": 0.5,\n            \"k3\": 20.0,\n            \"c3\": 0.3,\n            \"x2_start\": 0.5,\n        },\n    },\n]"
      ]
    },
    {
      "cell_type": "markdown",
      "metadata": {},
      "source": [
        "Next, we define the connections between the FMUs. The connections are defined as a\nlist of dictionaries, where each dictionary contains the source and target of the\nconnection. Here, there are three connections from `mass1` to `mass2` and one from\n`mass2` to `mass1`.\n\n"
      ]
    },
    {
      "cell_type": "code",
      "execution_count": null,
      "metadata": {
        "collapsed": false
      },
      "outputs": [],
      "source": [
        "connections = [\n    {\n        \"source\": {\"id\": \"mass1\", \"variable\": \"x1\"},\n        \"target\": {\"id\": \"mass2\", \"variable\": \"x1\"},\n    },\n    {\n        \"source\": {\"id\": \"mass1\", \"variable\": \"v1\"},\n        \"target\": {\"id\": \"mass2\", \"variable\": \"v1\"},\n    },\n    {\n        \"source\": {\"id\": \"mass1\", \"variable\": \"a1\"},\n        \"target\": {\"id\": \"mass2\", \"variable\": \"a1\"},\n    },\n    {\n        \"source\": {\"id\": \"mass2\", \"variable\": \"F\"},\n        \"target\": {\"id\": \"mass1\", \"variable\": \"F\"},\n    },\n]"
      ]
    },
    {
      "cell_type": "markdown",
      "metadata": {},
      "source": [
        "Finally, we create the configuration dictionary that contains the FMUs and the\nconnections.\n\n"
      ]
    },
    {
      "cell_type": "code",
      "execution_count": null,
      "metadata": {
        "collapsed": false
      },
      "outputs": [],
      "source": [
        "config = {\"fmus\": fmus, \"connections\": connections}"
      ]
    },
    {
      "cell_type": "code",
      "execution_count": null,
      "metadata": {
        "collapsed": false
      },
      "outputs": [],
      "source": [
        "from cofmpy import Coordinator\n\n# We create a Coordinator object and start it with the config dictionary\ncoordinator = Coordinator()\ncoordinator.start(config)\n\n# Let's check the default value of the mass of Mass1 in the FMU.\n# A variable in CoFMPy is identified by a tuple (fmu_id, variable_name).\nmass_val = coordinator.get_variable((\"mass1\", \"m1\"))\nprint(\"Value of mass1 'm1' (from the FMU):\", mass_val)"
      ]
    },
    {
      "cell_type": "markdown",
      "metadata": {},
      "source": [
        "We now run the simulation for 15 seconds with a 1 ms time step.\n\n"
      ]
    },
    {
      "cell_type": "code",
      "execution_count": null,
      "metadata": {
        "collapsed": false
      },
      "outputs": [],
      "source": [
        "coordinator.run_simulation(step_size=0.001, end_time=15)\nresults = coordinator.get_results()\n\n# The results is a dictionary with the time and the values of the variables.\nprint(\"Results keys:\", list(results.keys()))"
      ]
    },
    {
      "cell_type": "markdown",
      "metadata": {},
      "source": [
        "We can now plot the position and velocity of the first mass over time. The results\nare compared with the simulation from OpenModelica, which are stored in a CSV file.\n\n"
      ]
    },
    {
      "cell_type": "code",
      "execution_count": null,
      "metadata": {
        "collapsed": false
      },
      "outputs": [],
      "source": [
        "import matplotlib.pyplot as plt\nimport pandas as pd\n\nplt.plot(results[\"time\"], results[(\"mass1\", \"x1\")], label=\"Position (CoFMPy)\")\nplt.plot(results[\"time\"], results[(\"mass1\", \"v1\")], label=\"Velocity (CoFMPy)\")\n\n# Load the results from OpenModelica for comparison\ndf = pd.read_csv(\"./assets/results_OpenModelica_DualMassOscillator.csv\")\nplt.plot(df[\"time\"], df[\"x1\"], \"--\", label=\"Position (OpenModelica)\")\nplt.plot(df[\"time\"], df[\"v1\"], \"--\", label=\"Velocity (OpenModelica)\")\n\nplt.title(\"Position and velocity of mass1 over time\")\nplt.xlabel(\"Time [s]\")\nplt.legend()\nplt.grid()"
      ]
    },
    {
      "cell_type": "markdown",
      "metadata": {},
      "source": [
        "# Conclusion\n\nIn this example, we have seen how to use CoFMPy to run the Dual Mass Oscillator system\nwith two interconnected FMUs.\n\n"
      ]
    }
  ],
  "metadata": {
    "kernelspec": {
      "display_name": "Python 3",
      "language": "python",
      "name": "python3"
    },
    "language_info": {
      "codemirror_mode": {
        "name": "ipython",
        "version": 3
      },
      "file_extension": ".py",
      "mimetype": "text/x-python",
      "name": "python",
      "nbconvert_exporter": "python",
      "pygments_lexer": "ipython3",
      "version": "3.13.2"
    }
  },
  "nbformat": 4,
  "nbformat_minor": 0
}