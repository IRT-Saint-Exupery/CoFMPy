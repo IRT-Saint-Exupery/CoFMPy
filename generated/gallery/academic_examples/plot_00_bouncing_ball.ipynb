{
  "cells": [
    {
      "cell_type": "code",
      "execution_count": null,
      "metadata": {
        "collapsed": false
      },
      "outputs": [],
      "source": [
        "%matplotlib inline"
      ]
    },
    {
      "cell_type": "markdown",
      "metadata": {},
      "source": [
        "\nThe \"Bouncing Ball\"\n===================\n\nThis example demonstrates how to use CoFMPy to run the famous **Bouncing Ball** example.\nThe FMU simulates a ball bouncing on the ground.\n"
      ]
    },
    {
      "cell_type": "markdown",
      "metadata": {},
      "source": [
        "# The original bouncing ball example\n\nWe will load and run the simulation of the Bouncing Ball FMU.\n\nFirst, let's define the configuration for the Bouncing Ball system. Instead of using a\nJSON file, we will directly create the configuration in a Python dictionary.\n\n"
      ]
    },
    {
      "cell_type": "code",
      "execution_count": null,
      "metadata": {
        "collapsed": false
      },
      "outputs": [],
      "source": [
        "from cofmpy import Coordinator\n\n# We define a simple CoFMPy config dictionary with a single FMU and no connection\nconfig = {\"fmus\": [{\"id\": \"bouncing_ball\", \"path\": \"../fmus/BouncingBall.fmu\"}]}\n\n# We create a Coordinator object and start it with the config dictionary\ncoordinator = Coordinator()\ncoordinator.start(config)\n\n# Let's check the default value of the coefficient of restitution `e` in the FMU.\n# A variable in CoFMPy is identified by a tuple (fmu_id, variable_name).\ne = coordinator.get_variable((\"bouncing_ball\", \"e\"))\nprint(\"Default value of coefficient of restitution 'e' (from the FMU):\", e)"
      ]
    },
    {
      "cell_type": "markdown",
      "metadata": {},
      "source": [
        "We now run the simulation for 2.8 seconds with a 10 ms time step. We retrieve the\nresults and plot the height of the ball over time.\n\n"
      ]
    },
    {
      "cell_type": "code",
      "execution_count": null,
      "metadata": {
        "collapsed": false
      },
      "outputs": [],
      "source": [
        "step_size = 0.01  # 10 ms time step\nend_time = 2.8  # Simulation time in seconds\n\ncoordinator.run_simulation(step_size, end_time)\nresults = coordinator.get_results()\n\n# The results is a dictionary with the time and the values of the variables.\nprint(\"Results keys:\", results.keys())"
      ]
    },
    {
      "cell_type": "code",
      "execution_count": null,
      "metadata": {
        "collapsed": false
      },
      "outputs": [],
      "source": [
        "import matplotlib.pyplot as plt\n\n\ndef plot_height(results):\n    plt.plot(results[\"time\"], results[(\"bouncing_ball\", \"h\")])\n    plt.grid()\n    plt.title(\"Bouncing Ball Height over time\")\n    plt.xlabel(\"Time [s]\")\n    plt.ylabel(\"Height [m]\")\n\n\nplot_height(results)"
      ]
    },
    {
      "cell_type": "markdown",
      "metadata": {},
      "source": [
        "# Variable initialization\n\nWe will now see how to set the initial values of the FMU variables. First, let's\nlook at the variables in the Bouncing Ball FMU and their causality.\n\n"
      ]
    },
    {
      "cell_type": "code",
      "execution_count": null,
      "metadata": {
        "collapsed": false
      },
      "outputs": [],
      "source": [
        "variables = coordinator.get_variable_names()\nprint(\"Variables in the Bouncing Ball FMU (and their causality):\")\nfor var in variables:\n    print(f\"- '{var[1]}': {coordinator.get_causality(var)}\")"
      ]
    },
    {
      "cell_type": "markdown",
      "metadata": {},
      "source": [
        "In the following, we will set the coefficient of restitution `e` to 0.5, meaning that\nthe ball will bounce less high than in the reference simulation.\n\nThe initialization of the FMU variables is done in the configuration file (or in the\ndictionary here). The `initialization` key is used to set the initial values of the\nFMU variables. The values are set before the simulation starts.\n\n"
      ]
    },
    {
      "cell_type": "code",
      "execution_count": null,
      "metadata": {
        "collapsed": false
      },
      "outputs": [],
      "source": [
        "config = {\n    \"fmus\": [\n        {\n            \"id\": \"bouncing_ball\",\n            \"path\": \"../fmus/BouncingBall.fmu\",\n            \"initialization\": {\"e\": 0.5},  # Set initial value\n        }\n    ]\n}\n\ncoordinator = Coordinator()\ncoordinator.start(config)\n\ncoordinator.run_simulation(step_size, end_time)\n\nresults = coordinator.get_results()\nplot_height(results)"
      ]
    },
    {
      "cell_type": "markdown",
      "metadata": {},
      "source": [
        "We can also set the initial height `h` of the ball to 5 meters. `h` is an output\nvariable but its start value can be set at initialization of the FMU.\n\n"
      ]
    },
    {
      "cell_type": "code",
      "execution_count": null,
      "metadata": {
        "collapsed": false
      },
      "outputs": [],
      "source": [
        "config = {\n    \"fmus\": [\n        {\n            \"id\": \"bouncing_ball\",\n            \"path\": \"../fmus/BouncingBall.fmu\",\n            \"initialization\": {\"e\": 0.5, \"h\": 5},\n        }\n    ]\n}\n\ncoordinator = Coordinator()\ncoordinator.start(config)\n\ncoordinator.run_simulation(step_size, end_time)\n\nresults = coordinator.get_results()\nplot_height(results)"
      ]
    },
    {
      "cell_type": "markdown",
      "metadata": {},
      "source": [
        "# Comparison with the analytical solution\n\nTo validate the simulation with CoFMPy, we compare the results with the analytical\nsolution of the bouncing ball model as defined in the\n[reference FMU](https://github.com/modelica/Reference-FMUs/blob/v0.0.39/BouncingBall/readme.md).\n\n\n"
      ]
    },
    {
      "cell_type": "code",
      "execution_count": null,
      "metadata": {
        "collapsed": false
      },
      "outputs": [],
      "source": [
        "import numpy as np\n\n\ndef analytical_solution(time_points, e=0.8, h0=1.0):\n    \"\"\"Calculate the height of the bouncing ball at time t using the analytical\n    solution.\n    \"\"\"\n    g = 9.81\n\n    # Time and velocity of the fictive first bounce (negative because before t=0)\n    t_bounce = -np.sqrt(2 * h0 / g)\n    v_bounce = -t_bounce * g\n\n    h = np.zeros_like(time_points)\n    for i, t in enumerate(time_points):\n        dt = t - t_bounce  # Time since last bounce\n        h[i] = v_bounce * dt - 0.5 * g * dt**2  # Height as a parabolic flight\n        if h[i] < 0:\n            h[i] = 0\n            t_bounce = t\n            v_bounce = e * v_bounce\n    return h"
      ]
    },
    {
      "cell_type": "code",
      "execution_count": null,
      "metadata": {
        "collapsed": false
      },
      "outputs": [],
      "source": [
        "# Calculate the analytical solution\ntime_points = np.linspace(0, end_time, 1000)\nanalytical_heights = analytical_solution(time_points, e=0.5, h0=5)\n\n# Plot the results and the analytical solution\nplot_height(results)\nplt.plot(\n    time_points - step_size,\n    analytical_heights,\n    label=\"Analytical Solution\",\n    linestyle=\"--\",\n    color=\"orange\",\n)\nplt.title(\"Bouncing Ball Height: CoFMPy simulation vs Analytical solution\")\nplt.legend([\"CoFMPy simulation\", \"Analytical solution\"])"
      ]
    },
    {
      "cell_type": "markdown",
      "metadata": {},
      "source": [
        "# Conclusion\n\nIn this example, we have seen how to use CoFMPy to run the Bouncing Ball FMU. We\nhave learnt how to:\n\n- Load the FMU and run a simulation\n- Retrieve and plot the results\n- Modify the initial values of the FMU variables\n\n"
      ]
    }
  ],
  "metadata": {
    "kernelspec": {
      "display_name": "Python 3",
      "language": "python",
      "name": "python3"
    },
    "language_info": {
      "codemirror_mode": {
        "name": "ipython",
        "version": 3
      },
      "file_extension": ".py",
      "mimetype": "text/x-python",
      "name": "python",
      "nbconvert_exporter": "python",
      "pygments_lexer": "ipython3",
      "version": "3.13.2"
    }
  },
  "nbformat": 4,
  "nbformat_minor": 0
}