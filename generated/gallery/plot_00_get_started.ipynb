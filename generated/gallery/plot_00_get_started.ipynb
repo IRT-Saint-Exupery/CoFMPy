{
  "cells": [
    {
      "cell_type": "code",
      "execution_count": null,
      "metadata": {
        "collapsed": false
      },
      "outputs": [],
      "source": [
        "%matplotlib inline"
      ]
    },
    {
      "cell_type": "markdown",
      "metadata": {},
      "source": [
        "\nA first example: an AC voltage source and a resistor\n====================================================\n\nThis is a simple example of how to use CoFMPy to load a co-simulation system (JSON\nconfiguration file and FMUs) and run the simulation.\n\nThe use case is a simple system with an AC voltage source and a resistor. The AC voltage\nsource generates a sinusoidal voltage signal, and the resistor consumes the power from\nthe source. The resistor has a variable resistance that can be changed during the\nsimulation.\n\n![source resistor system](../../assets/source_resistor.png)\n"
      ]
    },
    {
      "cell_type": "markdown",
      "metadata": {},
      "source": [
        "We will first download all necessary resources such as the FMUs (source and resistor)\nand the configuration file from the public link provided below.\n\n"
      ]
    },
    {
      "cell_type": "code",
      "execution_count": null,
      "metadata": {
        "collapsed": false
      },
      "outputs": [],
      "source": [
        "import os\nimport urllib.request\nimport zipfile\n\nurl = \"https://share-is.pf.irt-saintexupery.com/s/39zaG9HkQWnePbi/download\"\n\n# Local path to resources folder\nresources_path = \"example1.zip\"\n\n# Download and unzip the file\nurllib.request.urlretrieve(url, resources_path)\nwith zipfile.ZipFile(resources_path, \"r\") as zip_ref:\n    zip_ref.extractall(\".\")\n\n# Remove the zip file\nos.remove(resources_path)\n\nprint(\"Resources unzipped in example1 folder!\")"
      ]
    },
    {
      "cell_type": "markdown",
      "metadata": {},
      "source": [
        "Now that we have all the necessary resources, we can start the example.\n\nThe base object in CoFMPy is the [**Coordinator**](../../api/coordinator.md). It\nmanages all the components of CoFMPy: the Master algorithm, the graph engine, the data\nstream handlers, etc. In this tutorial, we only deal with the Coordinator that\ncommunicates automatically with the different components.\n\nWe will first import the Coordinator object from CoFMPy and create an instance of it.\n\n"
      ]
    },
    {
      "cell_type": "code",
      "execution_count": null,
      "metadata": {
        "collapsed": false
      },
      "outputs": [],
      "source": [
        "from cofmpy import Coordinator\n\ncoordinator = Coordinator()"
      ]
    },
    {
      "cell_type": "markdown",
      "metadata": {},
      "source": [
        "## The JSON configuration file\n\nThe first step is to create the JSON configuration file based on your simulation\nsystem. This file must contain the information about the FMUs, the connections between\nthem, and the simulation settings. For more information, check the page on [how to\ncreate a JSON configuration file](../../user_guide/configuration_file.md), see this\npage. The system also requires input data to run the simulation (here, the variable\nresistor from a CSV file).\n\nHere is the content of the configuration file for this example:\n\n"
      ]
    },
    {
      "cell_type": "code",
      "execution_count": null,
      "metadata": {
        "collapsed": false
      },
      "outputs": [],
      "source": [
        "config_path = \"example1/config_with_csv.json\"\nwith open(config_path, \"r\") as f:\n    print(f.read())"
      ]
    },
    {
      "cell_type": "markdown",
      "metadata": {},
      "source": [
        "In the JSON configuration file, you can see the following information:\n\n- The 2 FMUs used in the system: an AC voltage source and a resistor\n- 2 connections:\n    - the output of the source is connected to the input of the resistor\n    - the resistance value of the resistor is set by a CSV file\n- The simulation settings: the loop solver and the edge separator (used in the graph\n  visualization).\n\nThe next step is to load the configuration file via the Coordinator. This will start\nthe multiple components to handle the whole simulation process:\n\n- the Master: the main process that controls the co-simulation\n- the data stream handlers: the objects that read and write data from/to the system\n- the graph engine\n\n"
      ]
    },
    {
      "cell_type": "code",
      "execution_count": null,
      "metadata": {
        "collapsed": false
      },
      "outputs": [],
      "source": [
        "coordinator.start(config_path)"
      ]
    },
    {
      "cell_type": "markdown",
      "metadata": {},
      "source": [
        "You can access the attributes of the components of the Coordinator object. For\nexample, you can access the loop solver of the co-simulation via the\n`master.loop_solver` attribute.\n\n"
      ]
    },
    {
      "cell_type": "code",
      "execution_count": null,
      "metadata": {
        "collapsed": false
      },
      "outputs": [],
      "source": [
        "# We can check the list of FMUs in the Master or the loop solver used\nprint(\"FMUs in Master:\", list(coordinator.master.fmu_handlers.keys()))\nprint(f\"Loop solver: {coordinator.master.loop_solver}\")\n\n# ... and the stream handlers (here, the CSV source). Keys are (fmu_name, var_name)\nprint(\"\\nCSV data stream handler key:\", list(coordinator.stream_handlers.keys())[0])\n\ncsv_data_handler = coordinator.stream_handlers[(\"resistor\", \"R\")]\nprint(\"CSV path for resistance value R:\", csv_data_handler.path)\nprint(\"CSV data for R (as Pandas dataframe):\\n\", csv_data_handler.data.head())"
      ]
    },
    {
      "cell_type": "markdown",
      "metadata": {},
      "source": [
        "You can also visualize the graph of the system using the `plot_graph` method. This\nmethod will plot the connections between the FMUs in the system.\n\n"
      ]
    },
    {
      "cell_type": "code",
      "execution_count": null,
      "metadata": {
        "collapsed": false
      },
      "outputs": [],
      "source": [
        "coordinator.graph_engine.plot_graph()"
      ]
    },
    {
      "cell_type": "markdown",
      "metadata": {},
      "source": [
        "## Running the simulation\n\nAfter loading the configuration file, you can run the simulation by calling the\n[`do_step` method](../../api/coordinator.md#cofmpy.coordinator.Coordinator.do_step).\nThis method will run the simulation for a given time step via the Master algorithm.\n\nThe `do_step` method will save the results in the data storages defined in the\nconfiguration file. You can access the data storages using the `data_storages`\nattribute of the Coordinator object. By default, a data storage for all outputs is\ncreated in the \"storage/results.csv\" file (see below).\n\n"
      ]
    },
    {
      "cell_type": "code",
      "execution_count": null,
      "metadata": {
        "collapsed": false
      },
      "outputs": [],
      "source": [
        "print(f\"Current time of the co-simulation: {coordinator.master.current_time}\")\n\ntime_step = 0.01\ncoordinator.do_step(time_step)\n\nprint(\n    \"Current time of the co-simulation after one step: \"\n    f\"{coordinator.master.current_time}\"\n)\n\n# Run N steps\nN = 100\nfor _ in range(N):\n    coordinator.do_step(time_step)\n\nprint(\n    f\"Current time of the co-simulation after {N+1} steps: \"\n    f\"{coordinator.master.current_time:.2f}\"\n)"
      ]
    },
    {
      "cell_type": "markdown",
      "metadata": {},
      "source": [
        "It is possible to run the simulation until a specific end time by using the\n[`run_simulation`\nmethod](../../api/coordinator.md#cofmpy.coordinator.Coordinator.run_simulation). This\nmethod will run the simulation until the end time and return the results of the\nsimulation. Note that you should recreate a new Coordinator from scratch. It is not\npossible to mix both `do_step` and `run_simulation` methods in the same Coordinator\nobject.\n\nAt the end of the simulation, you can also manually save results to a CSV file:\n\n"
      ]
    },
    {
      "cell_type": "code",
      "execution_count": null,
      "metadata": {
        "collapsed": false
      },
      "outputs": [],
      "source": [
        "coordinator.save_results(\"simulation_results.csv\")"
      ]
    },
    {
      "cell_type": "markdown",
      "metadata": {},
      "source": [
        "## Visualizing the results\n\nResults can be accessible directly in the Master object or in the CSV file we just\nsaved.\n\n"
      ]
    },
    {
      "cell_type": "code",
      "execution_count": null,
      "metadata": {
        "collapsed": false
      },
      "outputs": [],
      "source": [
        "import pandas as pd\n\nresults = pd.read_csv(\"simulation_results.csv\")\nprint(results.head(10))"
      ]
    },
    {
      "cell_type": "code",
      "execution_count": null,
      "metadata": {
        "collapsed": false
      },
      "outputs": [],
      "source": [
        "results.plot(x=\"time\", grid=True)"
      ]
    },
    {
      "cell_type": "markdown",
      "metadata": {},
      "source": [
        "We can observe that the change of resistance value at t = 0.42s effectively changes\nthe current $I = U/R$ flowing through the resistor.\n\n"
      ]
    }
  ],
  "metadata": {
    "kernelspec": {
      "display_name": "Python 3",
      "language": "python",
      "name": "python3"
    },
    "language_info": {
      "codemirror_mode": {
        "name": "ipython",
        "version": 3
      },
      "file_extension": ".py",
      "mimetype": "text/x-python",
      "name": "python",
      "nbconvert_exporter": "python",
      "pygments_lexer": "ipython3",
      "version": "3.13.2"
    }
  },
  "nbformat": 4,
  "nbformat_minor": 0
}